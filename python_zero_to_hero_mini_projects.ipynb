{
  "nbformat": 4,
  "nbformat_minor": 0,
  "metadata": {
    "colab": {
      "name": "python zero to hero mini projects.ipynb",
      "provenance": []
    },
    "kernelspec": {
      "name": "python3",
      "display_name": "Python 3"
    },
    "language_info": {
      "name": "python"
    }
  },
  "cells": [
    {
      "cell_type": "code",
      "metadata": {
        "colab": {
          "base_uri": "https://localhost:8080/"
        },
        "id": "zLeWVlFJyGof",
        "outputId": "b9261435-a6aa-44aa-a613-62758e395d74"
      },
      "source": [
        "import random\n",
        "import string\n",
        "id=''\n",
        "char_list = list(string.ascii_letters + string.digits)\n",
        "for i in range(6):\n",
        "  id+=random.choice(char_list)\n",
        "print(id)"
      ],
      "execution_count": 4,
      "outputs": [
        {
          "output_type": "stream",
          "text": [
            "XVxe0e\n"
          ],
          "name": "stdout"
        }
      ]
    },
    {
      "cell_type": "code",
      "metadata": {
        "id": "34z1H8d5-7NN"
      },
      "source": [
        ""
      ],
      "execution_count": 1,
      "outputs": []
    }
  ]
}